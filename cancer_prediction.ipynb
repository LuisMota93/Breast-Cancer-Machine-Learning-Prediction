{
 "cells": [
  {
   "cell_type": "markdown",
   "metadata": {},
   "source": [
    "# Breast Cancer Coimbra Data Set\n",
    "\n",
    "The dataset was obtainded from http://archive.ics.uci.edu/ml/datasets/Breast+Cancer+Coimbra\n",
    "\n",
    "\n",
    "Data Set Information:\n",
    "\n",
    "There are 10 predictors, all quantitative, and a binary dependent variable, indicating the presence or absence of breast cancer.\n",
    "\n",
    "The predictors are anthropometric data and parameters which can be gathered in routine blood analysis. Prediction models based on these predictors, if accurate, can potentially be used as a biomarker of breast cancer.\n",
    "\n",
    "\n",
    "Attribute Information:\n",
    "\n",
    "Quantitative Attributes:\n",
    "* Age (years)\n",
    "* BMI (kg/m2)\n",
    "* Glucose (mg/dL)\n",
    "* Insulin (µU/mL)\n",
    "* HOMA\n",
    "* Leptin (ng/mL)\n",
    "* Adiponectin (µg/mL)\n",
    "* Resistin (ng/mL)\n",
    "* MCP-1(pg/dL)\n",
    "\n",
    "Labels:\n",
    "\n",
    "1=Healthy controls\n",
    "\n",
    "2=Patients\n",
    "\n"
   ]
  },
  {
   "cell_type": "markdown",
   "metadata": {},
   "source": [
    "## Objectives\n",
    "\n",
    "All the relevant information about the data is described above. For more information about the columns information just click on the link and read the description.\n",
    "\n",
    "Having chosen the data it's time to define the objectives, wich are very simple:\n",
    "* Do summary statistics on the patients data\n",
    "* Check for missing values (and address them)\n",
    "* Create a supervised machine learning model to predict the presence or absence of breast cancer"
   ]
  },
  {
   "cell_type": "markdown",
   "metadata": {},
   "source": [
    "### Load the libraries\n",
    "First we will need to load the necessary libraries to analyse the data and create the model."
   ]
  },
  {
   "cell_type": "code",
   "execution_count": 1,
   "metadata": {},
   "outputs": [],
   "source": [
    "import numpy as np\n",
    "import pandas as pd\n",
    "import matplotlib.pyplot as plt\n",
    "import seaborn as sns"
   ]
  }
 ],
 "metadata": {
  "kernelspec": {
   "display_name": "Python 3",
   "language": "python",
   "name": "python3"
  },
  "language_info": {
   "codemirror_mode": {
    "name": "ipython",
    "version": 3
   },
   "file_extension": ".py",
   "mimetype": "text/x-python",
   "name": "python",
   "nbconvert_exporter": "python",
   "pygments_lexer": "ipython3",
   "version": "3.7.6"
  }
 },
 "nbformat": 4,
 "nbformat_minor": 4
}
