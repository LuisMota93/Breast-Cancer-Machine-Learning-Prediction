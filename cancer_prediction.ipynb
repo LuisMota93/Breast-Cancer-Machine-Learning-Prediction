{
 "cells": [
  {
   "cell_type": "markdown",
   "metadata": {},
   "source": [
    "# Breast Cancer Coimbra Data Set\n",
    "\n",
    "The dataset was obtainded from http://archive.ics.uci.edu/ml/datasets/Breast+Cancer+Coimbra\n",
    "\n",
    "\n",
    "Data Set Information:\n",
    "\n",
    "There are 10 predictors, all quantitative, and a binary dependent variable, indicating the presence or absence of breast cancer.\n",
    "\n",
    "The predictors are anthropometric data and parameters which can be gathered in routine blood analysis. Prediction models based on these predictors, if accurate, can potentially be used as a biomarker of breast cancer.\n",
    "\n",
    "\n",
    "Attribute Information:\n",
    "\n",
    "Quantitative Attributes:\n",
    "* Age (years)\n",
    "* BMI (kg/m2)\n",
    "* Glucose (mg/dL)\n",
    "* Insulin (µU/mL)\n",
    "* HOMA\n",
    "* Leptin (ng/mL)\n",
    "* Adiponectin (µg/mL)\n",
    "* Resistin (ng/mL)\n",
    "* MCP-1(pg/dL)\n",
    "\n",
    "Labels:\n",
    "\n",
    "1=Healthy controls\n",
    "\n",
    "2=Patients\n",
    "\n"
   ]
  },
  {
   "cell_type": "markdown",
   "metadata": {},
   "source": [
    "## Objectives\n",
    "\n",
    "All the relevant information about the data is described above. For more information about the columns information just click on the link and read the description.\n",
    "\n",
    "Having chosen the data it's time to define the objectives, wich are very simple:\n",
    "* Do summary statistics on the patients data\n",
    "* Check for missing values (and address them)\n",
    "* Create a supervised machine learning model to predict the presence or absence of breast cancer"
   ]
  },
  {
   "cell_type": "markdown",
   "metadata": {},
   "source": [
    "### Load the libraries\n",
    "First we will need to load the necessary libraries to analyse the data and create the model."
   ]
  },
  {
   "cell_type": "code",
   "execution_count": 1,
   "metadata": {},
   "outputs": [],
   "source": [
    "import numpy as np\n",
    "import pandas as pd\n",
    "import matplotlib.pyplot as plt\n",
    "import seaborn as sns"
   ]
  },
  {
   "cell_type": "markdown",
   "metadata": {},
   "source": [
    "### Load the data\n",
    "Next we will import the data that is in a `.csv` file named `dataR2.csv`, and will be named `cancer_data`."
   ]
  },
  {
   "cell_type": "code",
   "execution_count": 6,
   "metadata": {},
   "outputs": [
    {
     "name": "stdout",
     "output_type": "stream",
     "text": [
      "   Age        BMI  Glucose  Insulin      HOMA   Leptin  Adiponectin  Resistin  \\\n",
      "0   48  23.500000       70    2.707  0.467409   8.8071     9.702400   7.99585   \n",
      "1   83  20.690495       92    3.115  0.706897   8.8438     5.429285   4.06405   \n",
      "2   82  23.124670       91    4.498  1.009651  17.9393    22.432040   9.27715   \n",
      "3   68  21.367521       77    3.226  0.612725   9.8827     7.169560  12.76600   \n",
      "4   86  21.111111       92    3.549  0.805386   6.6994     4.819240  10.57635   \n",
      "\n",
      "     MCP.1  Classification  \n",
      "0  417.114               1  \n",
      "1  468.786               1  \n",
      "2  554.697               1  \n",
      "3  928.220               1  \n",
      "4  773.920               1  \n",
      "\n",
      " Index(['Age', 'BMI', 'Glucose', 'Insulin', 'HOMA', 'Leptin', 'Adiponectin',\n",
      "       'Resistin', 'MCP.1', 'Classification'],\n",
      "      dtype='object')\n",
      "\n",
      " 116\n",
      "\n",
      " Age                 int64\n",
      "BMI               float64\n",
      "Glucose             int64\n",
      "Insulin           float64\n",
      "HOMA              float64\n",
      "Leptin            float64\n",
      "Adiponectin       float64\n",
      "Resistin          float64\n",
      "MCP.1             float64\n",
      "Classification      int64\n",
      "dtype: object\n"
     ]
    }
   ],
   "source": [
    "cancer_data = pd.read_csv(\"dataR2.csv\")\n",
    "\n",
    "print(cancer_data.head())\n",
    "print(\"\\n\", cancer_data.columns)\n",
    "print(\"\\n\", len(cancer_data))\n",
    "print(\"\\n\", cancer_data.dtypes)"
   ]
  }
 ],
 "metadata": {
  "kernelspec": {
   "display_name": "Python 3",
   "language": "python",
   "name": "python3"
  },
  "language_info": {
   "codemirror_mode": {
    "name": "ipython",
    "version": 3
   },
   "file_extension": ".py",
   "mimetype": "text/x-python",
   "name": "python",
   "nbconvert_exporter": "python",
   "pygments_lexer": "ipython3",
   "version": "3.7.6"
  }
 },
 "nbformat": 4,
 "nbformat_minor": 4
}
